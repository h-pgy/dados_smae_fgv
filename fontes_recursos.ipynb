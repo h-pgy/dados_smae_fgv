{
 "cells": [
  {
   "cell_type": "code",
   "execution_count": 1,
   "id": "67979685-2153-44c6-9334-02f645ca0c7d",
   "metadata": {},
   "outputs": [],
   "source": [
    "import requests\n",
    "import pandas as pd\n",
    "\n",
    "from utils import solve_dir, solve_path\n",
    "\n",
    "from config import KEY_API_SOF"
   ]
  },
  {
   "cell_type": "code",
   "execution_count": 2,
   "id": "e889a17e-ed05-4dff-8c0e-2bb9e173263d",
   "metadata": {},
   "outputs": [],
   "source": [
    "GENERATED_DATA_DIR = solve_dir('generated_data')\n",
    "GENERATED_DATA_DIR = solve_path('fontes_recursos', GENERATED_DATA_DIR)\n",
    "GENERATED_DATA_DIR = solve_dir(GENERATED_DATA_DIR)"
   ]
  },
  {
   "cell_type": "code",
   "execution_count": 3,
   "id": "dabdb116-83d2-43ec-b513-7ec7f17e8ace",
   "metadata": {},
   "outputs": [],
   "source": [
    "auth_headers = {'Authorization' :  f'Bearer {KEY_API_SOF}'}"
   ]
  },
  {
   "cell_type": "code",
   "execution_count": 4,
   "id": "3fa5bd03-d788-4f58-8836-e05b23217c4c",
   "metadata": {},
   "outputs": [],
   "source": [
    "def build_url(endpoint, **kwargs):\n",
    "    \n",
    "    domain = (\n",
    "        'https://gatewayapi.prodam.sp.gov.br:443/'\n",
    "        'financas/orcamento/sof/v3.0.1/'\n",
    "        )\n",
    "    \n",
    "    if not kwargs:\n",
    "        return domain + endpoint\n",
    "    else:\n",
    "        query = '&'.join([f'{key}={val}' for key, val in kwargs.items()])\n",
    "        return domain + endpoint + '?' + query"
   ]
  },
  {
   "cell_type": "code",
   "execution_count": 5,
   "id": "76599cb0-8a69-4f43-8366-37e40470c371",
   "metadata": {},
   "outputs": [],
   "source": [
    "def get_request(url, headers=auth_headers):\n",
    "    \n",
    "    with requests.get(url, headers=headers) as r:\n",
    "        return r.json()"
   ]
  },
  {
   "cell_type": "code",
   "execution_count": 6,
   "id": "24ea0dc2-3103-4972-9f97-2d50c79be39e",
   "metadata": {},
   "outputs": [],
   "source": [
    "url = build_url('fonteRecursos', anoExercicio=2022)"
   ]
  },
  {
   "cell_type": "code",
   "execution_count": 7,
   "id": "e6b93b95-f55f-49c1-b1f2-6df827c28e4d",
   "metadata": {},
   "outputs": [],
   "source": [
    "resp = get_request(url)"
   ]
  },
  {
   "cell_type": "code",
   "execution_count": 8,
   "id": "e9b2e063-16b1-4736-b951-e25b23e80e53",
   "metadata": {},
   "outputs": [],
   "source": [
    "assert resp['metadados']['txtStatus']=='OK'"
   ]
  },
  {
   "cell_type": "code",
   "execution_count": 9,
   "id": "4c602d3d-6f1e-45b4-a928-497a0b6f1798",
   "metadata": {},
   "outputs": [],
   "source": [
    "data= resp['lstFontesRecursos']"
   ]
  },
  {
   "cell_type": "code",
   "execution_count": 10,
   "id": "f7f4653f-efc9-4633-8e92-8e670b95b816",
   "metadata": {},
   "outputs": [],
   "source": [
    "df_fontes = pd.DataFrame(data)"
   ]
  },
  {
   "cell_type": "code",
   "execution_count": 11,
   "id": "bddd19c5-520c-41f9-8ffd-e84b9b52984c",
   "metadata": {},
   "outputs": [],
   "source": [
    "def save_df(df, fname, folder):\n",
    "    \n",
    "    fname = solve_path(fname, folder)\n",
    "    \n",
    "    try:\n",
    "        df.to_csv(fname, sep =';', decimal=',', \n",
    "                  encoding='latin-1', index=False)\n",
    "    except UnicodeEncodeError:\n",
    "        df.to_csv(fname, sep =';', decimal=',', \n",
    "                  encoding='utf-8', index=False)"
   ]
  },
  {
   "cell_type": "code",
   "execution_count": 12,
   "id": "afc7065b-4b02-4fdc-a69b-3e35ebbd86c1",
   "metadata": {},
   "outputs": [],
   "source": [
    "save_df(df_fontes, 'fontes_recursos_sof.csv', folder = GENERATED_DATA_DIR)"
   ]
  }
 ],
 "metadata": {
  "kernelspec": {
   "display_name": "Python 3",
   "language": "python",
   "name": "python3"
  },
  "language_info": {
   "codemirror_mode": {
    "name": "ipython",
    "version": 3
   },
   "file_extension": ".py",
   "mimetype": "text/x-python",
   "name": "python",
   "nbconvert_exporter": "python",
   "pygments_lexer": "ipython3",
   "version": "3.8.8"
  }
 },
 "nbformat": 4,
 "nbformat_minor": 5
}
