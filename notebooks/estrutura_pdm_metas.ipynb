{
 "cells": [
  {
   "cell_type": "code",
   "execution_count": 1,
   "id": "b57479fe-5194-40ac-8c17-5384951c125e",
   "metadata": {},
   "outputs": [],
   "source": [
    "import requests\n",
    "import pandas as pd\n",
    "from io import BytesIO\n",
    "import os\n",
    "from core.utils import solve_path, solve_dir, check_file_exists"
   ]
  },
  {
   "cell_type": "code",
   "execution_count": 2,
   "id": "bf4c5944-aa19-4daa-9030-bff4458ea9bb",
   "metadata": {},
   "outputs": [],
   "source": [
    "ORIGINAL_DATA_DIR = solve_dir('original_data')\n",
    "GENERATED_DATA_DIR = solve_dir('generated_data')\n",
    "GENERATED_DATA_DIR = solve_path('estrutura_pdm', GENERATED_DATA_DIR)\n",
    "GENERATED_DATA_DIR = solve_dir(GENERATED_DATA_DIR)"
   ]
  },
  {
   "cell_type": "code",
   "execution_count": 3,
   "id": "bad9e9e6-87c9-45d8-8e42-773c9d59c17d",
   "metadata": {},
   "outputs": [],
   "source": [
    "link_pdm_final = 'https://www.prefeitura.sp.gov.br/cidade/secretarias/upload/governo/arquivos/pdm-2124/Planilha%20PdM%2021-24%20Dados%20Abertos.xlsx'"
   ]
  },
  {
   "cell_type": "code",
   "execution_count": 4,
   "id": "11f10542-2594-4cbf-80b2-dc9417aa756c",
   "metadata": {},
   "outputs": [],
   "source": [
    "def download_xl(link, fname, folder, **read_excel):\n",
    "    \n",
    "    fpath = solve_path(fname, parent=folder)\n",
    "    \n",
    "    if os.path.exists(fpath):\n",
    "        return pd.read_excel(fpath)\n",
    "    \n",
    "    with requests.get(link) as r:\n",
    "        data = r.content\n",
    "    data = BytesIO(data)\n",
    "    df = pd.read_excel(data, **read_excel)\n",
    "    df.to_excel(fpath, index=False)\n",
    "    \n",
    "    return df"
   ]
  },
  {
   "cell_type": "code",
   "execution_count": 5,
   "id": "349bad7b-3eff-4faf-bf15-2913a3b60c79",
   "metadata": {},
   "outputs": [],
   "source": [
    "df = download_xl(link_pdm_final, 'pdm_versao_final.xlsx',\n",
    "                 ORIGINAL_DATA_DIR, skiprows=1)"
   ]
  },
  {
   "cell_type": "code",
   "execution_count": 6,
   "id": "6ba455ce-aa53-4844-a18e-c8b7cf69c5b6",
   "metadata": {},
   "outputs": [],
   "source": [
    "de_para_metas = {\n",
    "    'Meta_numero' : 'codigo',\n",
    "    'Meta_descricao' : 'titulo',\n",
    "    'Contexto' : 'contexto',\n",
    "    'Informações Complementares' : 'complemento',\n",
    "    'Eixo' : 'macrotema',\n",
    "    'Objetivo Estratégico' : 'tema',\n",
    "    'Secretaria Responsável' : 'orgao',\n",
    "    'ODS vinculados' : 'ods',\n",
    "    'Indicador' : 'indicador'\n",
    "}"
   ]
  },
  {
   "cell_type": "code",
   "execution_count": 7,
   "id": "5a97d830-1728-4bac-a088-861abb8a7662",
   "metadata": {},
   "outputs": [
    {
     "data": {
      "text/plain": [
       "[]"
      ]
     },
     "execution_count": 7,
     "metadata": {},
     "output_type": "execute_result"
    }
   ],
   "source": [
    "[k for k in df.keys() if k not in de_para_metas]"
   ]
  },
  {
   "cell_type": "code",
   "execution_count": 8,
   "id": "de89f06d-7a84-4c4f-8164-bfcb4249f3ff",
   "metadata": {},
   "outputs": [],
   "source": [
    "df = df.rename(de_para_metas, axis=1)"
   ]
  },
  {
   "cell_type": "code",
   "execution_count": 9,
   "id": "af75b5c6-a9d7-460b-be41-33a806d953eb",
   "metadata": {},
   "outputs": [],
   "source": [
    "df['pdm_id'] = 1"
   ]
  },
  {
   "cell_type": "code",
   "execution_count": 10,
   "id": "5316cb53-6047-4b62-b026-2771e3dbd506",
   "metadata": {},
   "outputs": [],
   "source": [
    "df['id'] = df.index + 1"
   ]
  },
  {
   "cell_type": "code",
   "execution_count": 11,
   "id": "71f44e6c-5f18-47d8-aba0-b2334b405c00",
   "metadata": {},
   "outputs": [],
   "source": [
    "def normalize_table(df, col, renamed_col = False):\n",
    "    \n",
    "    table = df[[col, 'pdm_id']]\n",
    "    table = table.drop_duplicates().reset_index(drop=True)\n",
    "    table['id'] = table.index+1\n",
    "    \n",
    "    mapped = table[['id', col]].to_dict(orient='dict')[col]\n",
    "    #key+1 para coluna id começar em 1\n",
    "    mapped = {val : key+1 for key, val in mapped.items()}\n",
    "    \n",
    "    df[col+'_id'] = df[col].apply(lambda x: mapped[x])\n",
    "    df.drop(col, axis=1, inplace=True)\n",
    "    \n",
    "    if renamed_col:\n",
    "        table.rename({col : renamed_col}, axis=1, inplace=True)\n",
    "    \n",
    "    \n",
    "    return table"
   ]
  },
  {
   "cell_type": "code",
   "execution_count": 12,
   "id": "a5f07995-deaf-4b01-8efc-0491a6a8af69",
   "metadata": {},
   "outputs": [],
   "source": [
    "macrotemas = normalize_table(df, 'macrotema', 'descricao')"
   ]
  },
  {
   "cell_type": "code",
   "execution_count": 13,
   "id": "a34d3f0e-b030-4064-b7df-d31dd4a82811",
   "metadata": {},
   "outputs": [
    {
     "data": {
      "text/html": [
       "<div>\n",
       "<style scoped>\n",
       "    .dataframe tbody tr th:only-of-type {\n",
       "        vertical-align: middle;\n",
       "    }\n",
       "\n",
       "    .dataframe tbody tr th {\n",
       "        vertical-align: top;\n",
       "    }\n",
       "\n",
       "    .dataframe thead th {\n",
       "        text-align: right;\n",
       "    }\n",
       "</style>\n",
       "<table border=\"1\" class=\"dataframe\">\n",
       "  <thead>\n",
       "    <tr style=\"text-align: right;\">\n",
       "      <th></th>\n",
       "      <th>descricao</th>\n",
       "      <th>pdm_id</th>\n",
       "      <th>id</th>\n",
       "    </tr>\n",
       "  </thead>\n",
       "  <tbody>\n",
       "    <tr>\n",
       "      <th>0</th>\n",
       "      <td>SP Justa e Inclusiva</td>\n",
       "      <td>1</td>\n",
       "      <td>1</td>\n",
       "    </tr>\n",
       "    <tr>\n",
       "      <th>1</th>\n",
       "      <td>SP Segura e Bem Cuidada</td>\n",
       "      <td>1</td>\n",
       "      <td>2</td>\n",
       "    </tr>\n",
       "    <tr>\n",
       "      <th>2</th>\n",
       "      <td>SP Ágil</td>\n",
       "      <td>1</td>\n",
       "      <td>3</td>\n",
       "    </tr>\n",
       "    <tr>\n",
       "      <th>3</th>\n",
       "      <td>SP Inovadora e Criativa</td>\n",
       "      <td>1</td>\n",
       "      <td>4</td>\n",
       "    </tr>\n",
       "    <tr>\n",
       "      <th>4</th>\n",
       "      <td>SP Global e Sustentável</td>\n",
       "      <td>1</td>\n",
       "      <td>5</td>\n",
       "    </tr>\n",
       "    <tr>\n",
       "      <th>5</th>\n",
       "      <td>SP Eficiente</td>\n",
       "      <td>1</td>\n",
       "      <td>6</td>\n",
       "    </tr>\n",
       "  </tbody>\n",
       "</table>\n",
       "</div>"
      ],
      "text/plain": [
       "                 descricao  pdm_id  id\n",
       "0     SP Justa e Inclusiva       1   1\n",
       "1  SP Segura e Bem Cuidada       1   2\n",
       "2                  SP Ágil       1   3\n",
       "3  SP Inovadora e Criativa       1   4\n",
       "4  SP Global e Sustentável       1   5\n",
       "5             SP Eficiente       1   6"
      ]
     },
     "execution_count": 13,
     "metadata": {},
     "output_type": "execute_result"
    }
   ],
   "source": [
    "macrotemas"
   ]
  },
  {
   "cell_type": "code",
   "execution_count": 14,
   "id": "4a20e0af-f7f0-45b5-91e5-4003eab906b6",
   "metadata": {},
   "outputs": [],
   "source": [
    "temas = normalize_table(df, 'tema', 'descricao')"
   ]
  },
  {
   "cell_type": "code",
   "execution_count": 15,
   "id": "e3473a1c-96bf-4dd3-8d94-598b6c8849c7",
   "metadata": {},
   "outputs": [
    {
     "data": {
      "text/html": [
       "<div>\n",
       "<style scoped>\n",
       "    .dataframe tbody tr th:only-of-type {\n",
       "        vertical-align: middle;\n",
       "    }\n",
       "\n",
       "    .dataframe tbody tr th {\n",
       "        vertical-align: top;\n",
       "    }\n",
       "\n",
       "    .dataframe thead th {\n",
       "        text-align: right;\n",
       "    }\n",
       "</style>\n",
       "<table border=\"1\" class=\"dataframe\">\n",
       "  <thead>\n",
       "    <tr style=\"text-align: right;\">\n",
       "      <th></th>\n",
       "      <th>descricao</th>\n",
       "      <th>pdm_id</th>\n",
       "      <th>id</th>\n",
       "    </tr>\n",
       "  </thead>\n",
       "  <tbody>\n",
       "    <tr>\n",
       "      <th>0</th>\n",
       "      <td>Reduzir a pobreza e ampliar o acesso a direito...</td>\n",
       "      <td>1</td>\n",
       "      <td>1</td>\n",
       "    </tr>\n",
       "    <tr>\n",
       "      <th>1</th>\n",
       "      <td>Garantir à população atendimento integral em s...</td>\n",
       "      <td>1</td>\n",
       "      <td>2</td>\n",
       "    </tr>\n",
       "    <tr>\n",
       "      <th>2</th>\n",
       "      <td>Garantir a proteção integral e o pleno desenvo...</td>\n",
       "      <td>1</td>\n",
       "      <td>3</td>\n",
       "    </tr>\n",
       "    <tr>\n",
       "      <th>3</th>\n",
       "      <td>Promover o acesso à moradia, à urbanização e à...</td>\n",
       "      <td>1</td>\n",
       "      <td>4</td>\n",
       "    </tr>\n",
       "    <tr>\n",
       "      <th>4</th>\n",
       "      <td>Garantir à população idosa o pleno exercício d...</td>\n",
       "      <td>1</td>\n",
       "      <td>5</td>\n",
       "    </tr>\n",
       "  </tbody>\n",
       "</table>\n",
       "</div>"
      ],
      "text/plain": [
       "                                           descricao  pdm_id  id\n",
       "0  Reduzir a pobreza e ampliar o acesso a direito...       1   1\n",
       "1  Garantir à população atendimento integral em s...       1   2\n",
       "2  Garantir a proteção integral e o pleno desenvo...       1   3\n",
       "3  Promover o acesso à moradia, à urbanização e à...       1   4\n",
       "4  Garantir à população idosa o pleno exercício d...       1   5"
      ]
     },
     "execution_count": 15,
     "metadata": {},
     "output_type": "execute_result"
    }
   ],
   "source": [
    "temas.head()"
   ]
  },
  {
   "cell_type": "code",
   "execution_count": 16,
   "id": "e77162b8-718c-42e9-a88c-6f1bf976116c",
   "metadata": {},
   "outputs": [],
   "source": [
    "#não usamos subtema\n",
    "df['subtema_id'] = None"
   ]
  },
  {
   "cell_type": "code",
   "execution_count": 17,
   "id": "f0a0d6a6-daf3-4e38-894f-1d52d339035e",
   "metadata": {},
   "outputs": [],
   "source": [
    "def extrair_orgaos(df):\n",
    "    \n",
    "    orgaos = df['orgao'].unique()\n",
    "    orgaos_unicos = set()\n",
    "    \n",
    "    for item in orgaos:\n",
    "        splited = item.split(',')\n",
    "        for sigla in splited:\n",
    "            sigla = sigla.strip()\n",
    "            orgaos_unicos.add(sigla)\n",
    "            \n",
    "    return orgaos_unicos"
   ]
  },
  {
   "cell_type": "code",
   "execution_count": 18,
   "id": "02ccbaa0-6df0-4621-b07d-5d79ee771e36",
   "metadata": {},
   "outputs": [],
   "source": [
    "orgaos_unicos = extrair_orgaos(df)"
   ]
  },
  {
   "cell_type": "code",
   "execution_count": 19,
   "id": "8601c251-7dab-4f77-85ad-9188197cffbe",
   "metadata": {},
   "outputs": [],
   "source": [
    "orgaos_table = pd.read_csv(solve_path('orgaos.csv',\n",
    "                                      solve_path('estrutura_administrativa_simplificada',\n",
    "                                                'generated_data')),\n",
    "                          sep=';', encoding='latin-1')"
   ]
  },
  {
   "cell_type": "code",
   "execution_count": 20,
   "id": "24f394eb-6fa7-41c9-b085-377722a14d68",
   "metadata": {},
   "outputs": [
    {
     "data": {
      "text/html": [
       "<div>\n",
       "<style scoped>\n",
       "    .dataframe tbody tr th:only-of-type {\n",
       "        vertical-align: middle;\n",
       "    }\n",
       "\n",
       "    .dataframe tbody tr th {\n",
       "        vertical-align: top;\n",
       "    }\n",
       "\n",
       "    .dataframe thead th {\n",
       "        text-align: right;\n",
       "    }\n",
       "</style>\n",
       "<table border=\"1\" class=\"dataframe\">\n",
       "  <thead>\n",
       "    <tr style=\"text-align: right;\">\n",
       "      <th></th>\n",
       "      <th>id</th>\n",
       "      <th>tipo_orgao_id</th>\n",
       "      <th>sigla</th>\n",
       "      <th>descricao</th>\n",
       "    </tr>\n",
       "  </thead>\n",
       "  <tbody>\n",
       "    <tr>\n",
       "      <th>30</th>\n",
       "      <td>31</td>\n",
       "      <td>1</td>\n",
       "      <td>SMUL</td>\n",
       "      <td>Secretaria Municipal de Urbanismo e Licenciamento</td>\n",
       "    </tr>\n",
       "    <tr>\n",
       "      <th>74</th>\n",
       "      <td>11</td>\n",
       "      <td>3</td>\n",
       "      <td>SPOBRAS</td>\n",
       "      <td>São Paulo Obras</td>\n",
       "    </tr>\n",
       "    <tr>\n",
       "      <th>13</th>\n",
       "      <td>14</td>\n",
       "      <td>1</td>\n",
       "      <td>SMS</td>\n",
       "      <td>Secretaria Municipal da Saúde</td>\n",
       "    </tr>\n",
       "    <tr>\n",
       "      <th>20</th>\n",
       "      <td>21</td>\n",
       "      <td>1</td>\n",
       "      <td>SEME</td>\n",
       "      <td>Secretaria Municipal de Esportes e Lazer</td>\n",
       "    </tr>\n",
       "    <tr>\n",
       "      <th>47</th>\n",
       "      <td>16</td>\n",
       "      <td>2</td>\n",
       "      <td>SUBLA</td>\n",
       "      <td>Subprefeitura Lapa</td>\n",
       "    </tr>\n",
       "  </tbody>\n",
       "</table>\n",
       "</div>"
      ],
      "text/plain": [
       "    id  tipo_orgao_id    sigla  \\\n",
       "30  31              1     SMUL   \n",
       "74  11              3  SPOBRAS   \n",
       "13  14              1      SMS   \n",
       "20  21              1     SEME   \n",
       "47  16              2    SUBLA   \n",
       "\n",
       "                                            descricao  \n",
       "30  Secretaria Municipal de Urbanismo e Licenciamento  \n",
       "74                                    São Paulo Obras  \n",
       "13                      Secretaria Municipal da Saúde  \n",
       "20           Secretaria Municipal de Esportes e Lazer  \n",
       "47                                 Subprefeitura Lapa  "
      ]
     },
     "execution_count": 20,
     "metadata": {},
     "output_type": "execute_result"
    }
   ],
   "source": [
    "orgaos_table.sample(5)"
   ]
  },
  {
   "cell_type": "code",
   "execution_count": 21,
   "id": "5796adb0-0039-44e8-a9ac-2a3ece0a31b9",
   "metadata": {},
   "outputs": [
    {
     "name": "stdout",
     "output_type": "stream",
     "text": [
      "Todos os órgãos já estão na tabela\n"
     ]
    }
   ],
   "source": [
    "for sigla in orgaos_unicos:\n",
    "    if sigla not in orgaos_table['sigla'].unique():\n",
    "        print(sigla)\n",
    "else:\n",
    "    print('Todos os órgãos já estão na tabela')"
   ]
  },
  {
   "cell_type": "code",
   "execution_count": 22,
   "id": "bc5ba8ae-3c19-4fb9-9d73-a71c7bd54ac4",
   "metadata": {},
   "outputs": [],
   "source": [
    "def sigla_in_orgaos(sigla_alvo, orgao_cell):\n",
    "    \n",
    "    splited = orgao_cell.split(',')\n",
    "    \n",
    "    for sigla in splited:\n",
    "        sigla = sigla.strip()\n",
    "        if sigla==sigla_alvo:\n",
    "            return True\n",
    "    else:\n",
    "        return False\n",
    "\n",
    "def cross_table_orgaos(df, orgaos_table):\n",
    "    \n",
    "    mapped = orgaos_table.to_dict()['sigla']\n",
    "    #key+1 para indexar em 1 não 0\n",
    "    mapped = {val : key+1 for key, val in mapped.items()}\n",
    "    \n",
    "    data = []\n",
    "    id_ = 1\n",
    "    for i, row in df.iterrows():\n",
    "        orgao_cell = row['orgao']\n",
    "        meta_id = row['id']\n",
    "        for orgao_sigla, orgao_id in mapped.items():\n",
    "            if sigla_in_orgaos(orgao_sigla, orgao_cell):\n",
    "                #colocando False para todos no orgao responsavel\n",
    "                #depois equipe CP atualiza essa info\n",
    "                data_row = (id_, meta_id, orgao_id, False)\n",
    "                data.append(data_row)\n",
    "                id_+=1\n",
    "    df.drop('orgao', axis=1, inplace=True)\n",
    "    \n",
    "    return pd.DataFrame(data, columns = ('id', 'meta_id', \n",
    "                                         'orgao_id', 'orgao_responsavel'))"
   ]
  },
  {
   "cell_type": "code",
   "execution_count": 23,
   "id": "f8dbbb6b-5d82-434a-a068-c19198d2802a",
   "metadata": {},
   "outputs": [],
   "source": [
    "meta_orgao = cross_table_orgaos(df, orgaos_table)"
   ]
  },
  {
   "cell_type": "code",
   "execution_count": 24,
   "id": "acc58453-9c7f-487a-9742-4247a959c6a3",
   "metadata": {},
   "outputs": [
    {
     "data": {
      "text/html": [
       "<div>\n",
       "<style scoped>\n",
       "    .dataframe tbody tr th:only-of-type {\n",
       "        vertical-align: middle;\n",
       "    }\n",
       "\n",
       "    .dataframe tbody tr th {\n",
       "        vertical-align: top;\n",
       "    }\n",
       "\n",
       "    .dataframe thead th {\n",
       "        text-align: right;\n",
       "    }\n",
       "</style>\n",
       "<table border=\"1\" class=\"dataframe\">\n",
       "  <thead>\n",
       "    <tr style=\"text-align: right;\">\n",
       "      <th></th>\n",
       "      <th>id</th>\n",
       "      <th>meta_id</th>\n",
       "      <th>orgao_id</th>\n",
       "      <th>orgao_responsavel</th>\n",
       "    </tr>\n",
       "  </thead>\n",
       "  <tbody>\n",
       "    <tr>\n",
       "      <th>89</th>\n",
       "      <td>90</td>\n",
       "      <td>61</td>\n",
       "      <td>18</td>\n",
       "      <td>False</td>\n",
       "    </tr>\n",
       "    <tr>\n",
       "      <th>55</th>\n",
       "      <td>56</td>\n",
       "      <td>35</td>\n",
       "      <td>15</td>\n",
       "      <td>False</td>\n",
       "    </tr>\n",
       "    <tr>\n",
       "      <th>101</th>\n",
       "      <td>102</td>\n",
       "      <td>68</td>\n",
       "      <td>32</td>\n",
       "      <td>False</td>\n",
       "    </tr>\n",
       "    <tr>\n",
       "      <th>75</th>\n",
       "      <td>76</td>\n",
       "      <td>53</td>\n",
       "      <td>17</td>\n",
       "      <td>False</td>\n",
       "    </tr>\n",
       "    <tr>\n",
       "      <th>41</th>\n",
       "      <td>42</td>\n",
       "      <td>23</td>\n",
       "      <td>20</td>\n",
       "      <td>False</td>\n",
       "    </tr>\n",
       "  </tbody>\n",
       "</table>\n",
       "</div>"
      ],
      "text/plain": [
       "      id  meta_id  orgao_id  orgao_responsavel\n",
       "89    90       61        18              False\n",
       "55    56       35        15              False\n",
       "101  102       68        32              False\n",
       "75    76       53        17              False\n",
       "41    42       23        20              False"
      ]
     },
     "execution_count": 24,
     "metadata": {},
     "output_type": "execute_result"
    }
   ],
   "source": [
    "meta_orgao.sample(5)"
   ]
  },
  {
   "cell_type": "code",
   "execution_count": 25,
   "id": "b7d4747a-1565-437b-baef-d0be5b48d615",
   "metadata": {},
   "outputs": [],
   "source": [
    "def save_df(df, fname, folder = GENERATED_DATA_DIR):\n",
    "    \n",
    "    fname = solve_path(fname, folder)\n",
    "    \n",
    "    try:\n",
    "        df.to_csv(fname, sep =';', decimal=',', \n",
    "                  encoding='latin-1', index=False)\n",
    "    except UnicodeEncodeError:\n",
    "        df.to_csv(fname, sep =';', decimal=',', \n",
    "                  encoding='utf-8', index=False)"
   ]
  },
  {
   "cell_type": "code",
   "execution_count": 26,
   "id": "505a1c7e-857a-4cc5-b8b5-a8423694463e",
   "metadata": {},
   "outputs": [],
   "source": [
    "df.rename({'indicador' : 'indicador_temp',\n",
    "          'ods' : 'ods_temp'}, axis=1, inplace=True)"
   ]
  },
  {
   "cell_type": "code",
   "execution_count": 27,
   "id": "9e640eb2-5f87-4641-a911-066e60b4c8bb",
   "metadata": {},
   "outputs": [],
   "source": [
    "df['inativa'] = False\n",
    "df['status'] = None\n",
    "df['motivo_inativacao'] = None\n",
    "df['data_inativacao'] = None"
   ]
  },
  {
   "cell_type": "code",
   "execution_count": 28,
   "id": "822277cb-40eb-4ad5-b77d-9cd93c7e11b6",
   "metadata": {},
   "outputs": [],
   "source": [
    "df.fillna(value='NULL', inplace=True)"
   ]
  },
  {
   "cell_type": "code",
   "execution_count": 29,
   "id": "b18389cd-ff72-405b-8334-0e45e0901a40",
   "metadata": {},
   "outputs": [
    {
     "data": {
      "text/plain": [
       "Index(['codigo', 'titulo', 'indicador_temp', 'contexto', 'complemento',\n",
       "       'ods_temp', 'pdm_id', 'id', 'macrotema_id', 'tema_id', 'subtema_id',\n",
       "       'inativa', 'status', 'motivo_inativacao', 'data_inativacao'],\n",
       "      dtype='object')"
      ]
     },
     "execution_count": 29,
     "metadata": {},
     "output_type": "execute_result"
    }
   ],
   "source": [
    "df.keys()"
   ]
  },
  {
   "cell_type": "code",
   "execution_count": 30,
   "id": "68e8807a-7423-4cf0-aa92-48a012346fb3",
   "metadata": {},
   "outputs": [],
   "source": [
    "col_order = [\n",
    "             'id', \n",
    "             'pdm_id',\n",
    "             'codigo', \n",
    "             'titulo', \n",
    "             'contexto',\n",
    "             'complemento',\n",
    "             'macrotema_id', \n",
    "             'tema_id', \n",
    "             'subtema_id',\n",
    "             'status', \n",
    "             'inativa', \n",
    "             'motivo_inativacao', \n",
    "             'data_inativacao',\n",
    "             'indicador_temp',\n",
    "             'ods_temp',\n",
    "            ]"
   ]
  },
  {
   "cell_type": "code",
   "execution_count": 31,
   "id": "b8caa55d-1cc4-4bcc-b43f-8c67bfa1b9fa",
   "metadata": {},
   "outputs": [],
   "source": [
    "df = df[col_order]"
   ]
  },
  {
   "cell_type": "code",
   "execution_count": 32,
   "id": "bc86f787-fb42-4ca3-b4f6-66e0d27044b6",
   "metadata": {},
   "outputs": [],
   "source": [
    "save_df(df, 'Meta.csv')"
   ]
  },
  {
   "cell_type": "code",
   "execution_count": 33,
   "id": "6fc3a48c-4b75-4852-9410-57259e3809e3",
   "metadata": {},
   "outputs": [],
   "source": [
    "save_df(macrotemas, 'macro_tema.csv')"
   ]
  },
  {
   "cell_type": "code",
   "execution_count": 34,
   "id": "f4a252af-65de-4728-99dd-0bc412e89759",
   "metadata": {},
   "outputs": [],
   "source": [
    "save_df(temas, 'tema.csv')"
   ]
  },
  {
   "cell_type": "code",
   "execution_count": 35,
   "id": "6d9bb7ef-ec28-4f3b-992a-80c85d2c0c32",
   "metadata": {},
   "outputs": [],
   "source": [
    "save_df(meta_orgao, 'Meta_Orgao.csv')"
   ]
  },
  {
   "cell_type": "code",
   "execution_count": null,
   "id": "16b8a4c1-b874-475a-a590-4268650c3016",
   "metadata": {},
   "outputs": [],
   "source": []
  }
 ],
 "metadata": {
  "kernelspec": {
   "display_name": "Python 3",
   "language": "python",
   "name": "python3"
  },
  "language_info": {
   "codemirror_mode": {
    "name": "ipython",
    "version": 3
   },
   "file_extension": ".py",
   "mimetype": "text/x-python",
   "name": "python",
   "nbconvert_exporter": "python",
   "pygments_lexer": "ipython3",
   "version": "3.8.8"
  }
 },
 "nbformat": 4,
 "nbformat_minor": 5
}
