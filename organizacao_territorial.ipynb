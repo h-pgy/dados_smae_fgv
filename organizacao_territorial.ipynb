{
 "cells": [
  {
   "cell_type": "code",
   "execution_count": null,
   "id": "2c3073a0-0cb9-491c-b1b0-e9b9dedc1757",
   "metadata": {},
   "outputs": [],
   "source": []
  },
  {
   "cell_type": "code",
   "execution_count": 1,
   "id": "e4cb43a7-c8ec-4ecd-9c83-4760cbf28f3b",
   "metadata": {},
   "outputs": [
    {
     "name": "stderr",
     "output_type": "stream",
     "text": [
      "/home/h-pgy/anaconda3/lib/python3.8/site-packages/geopandas/_compat.py:111: UserWarning: The Shapely GEOS version (3.8.0-CAPI-1.13.1 ) is incompatible with the GEOS version PyGEOS was compiled with (3.10.1-CAPI-1.16.0). Conversions between both will be slow.\n",
      "  warnings.warn(\n"
     ]
    }
   ],
   "source": [
    "import geopandas as gpd\n",
    "import requests\n",
    "from zipfile import ZipFile\n",
    "\n",
    "from utils import (solve_path, solve_dir, check_file_exists,\n",
    "                delete_existing_files, list_files_recursive)"
   ]
  },
  {
   "cell_type": "code",
   "execution_count": 2,
   "id": "be6e5f5f-0664-4713-86c6-ad8fd8b79aa7",
   "metadata": {},
   "outputs": [],
   "source": [
    "ORIGINAL_DATA_DIR = solve_dir('original_data')\n",
    "GENERATED_DATA_DIR = solve_dir('generated_data')\n",
    "GENERATED_DATA_DIR = solve_path('organizacao_territorial', GENERATED_DATA_DIR)\n",
    "GENERATED_DATA_DIR = solve_dir(GENERATED_DATA_DIR)"
   ]
  },
  {
   "cell_type": "markdown",
   "id": "e50f7a73-9cfe-4a81-97ba-7333aee7f402",
   "metadata": {},
   "source": [
    "## Download ShapeFiles"
   ]
  },
  {
   "cell_type": "code",
   "execution_count": 3,
   "id": "df41b4e4-e355-4cb2-bae9-61b77b3a3cef",
   "metadata": {},
   "outputs": [],
   "source": [
    "def geosampa_download_url(arquivo):\n",
    "    url = (\n",
    "    'http://download.geosampa.prefeitura.sp.gov.br/'\n",
    "    'PaginasPublicas/downloadArquivo.aspx?orig=DownloadCamadas'\n",
    "    f'&arq={arquivo}'\n",
    "    '&arqTipo=Shapefile'\n",
    "    )\n",
    "    \n",
    "    return url"
   ]
  },
  {
   "cell_type": "code",
   "execution_count": 4,
   "id": "09f57709-9b72-48ce-980e-cce4cf697d38",
   "metadata": {},
   "outputs": [],
   "source": [
    "def zip_fname(fname, folder):\n",
    "    \n",
    "    return solve_path(f'{fname}.zip', folder)\n"
   ]
  },
  {
   "cell_type": "code",
   "execution_count": 5,
   "id": "ab1c5917-3b16-4d84-937b-a22617cf4f1d",
   "metadata": {},
   "outputs": [],
   "source": [
    "def download_shape(fpath, url):\n",
    "    \n",
    "    \n",
    "    with requests.get(url) as r:\n",
    "        content = r.content\n",
    "    with open(fpath, 'wb') as f:\n",
    "        f.write(content)\n",
    "        \n",
    "    "
   ]
  },
  {
   "cell_type": "code",
   "execution_count": 6,
   "id": "b5f20734-e7a9-4f7a-9c9d-0ef8294d4d05",
   "metadata": {},
   "outputs": [],
   "source": [
    "def unzip(zip_path, target_dir):\n",
    "    \n",
    "    with ZipFile(zip_path, 'r') as zip_ref:\n",
    "        zip_ref.extractall(target_dir)\n"
   ]
  },
  {
   "cell_type": "code",
   "execution_count": 7,
   "id": "3d1c14fc-c0a0-43ec-9ea4-e27b2f9bdf16",
   "metadata": {},
   "outputs": [],
   "source": [
    "def find_shps(tema):\n",
    "    \n",
    "    folder_tema = solve_path(tema, GENERATED_DATA_DIR)\n",
    "    shps=  list_files_recursive(folder_tema, '.shp')\n",
    "    \n",
    "    return shps"
   ]
  },
  {
   "cell_type": "code",
   "execution_count": 8,
   "id": "1375106e-1e27-4183-8c58-c68084d1e56b",
   "metadata": {},
   "outputs": [],
   "source": [
    "def download_all_files(de_para_arquivos, folder = GENERATED_DATA_DIR):\n",
    "    \n",
    "    for tema, link in de_para_arquivos.items():\n",
    "        \n",
    "        shps = find_shps(tema)\n",
    "        \n",
    "        if len(shps)<1:\n",
    "            print(f'Baixando dados para tema {tema}')\n",
    "            url = geosampa_download_url(link)\n",
    "            fname = zip_fname(tema, folder)\n",
    "\n",
    "            download_shape(fname, url)\n",
    "            tema_folder = solve_path(tema, folder)\n",
    "            unzip(fname, tema_folder)\n",
    "        else:\n",
    "            print(f'Dados para tema {tema} já disponíveis')\n",
    "    #preciso mandar os shapes pra fgv por email    \n",
    "    #delete_existing_files(folder, extension='.zip')"
   ]
  },
  {
   "cell_type": "code",
   "execution_count": 9,
   "id": "db6d4dbe-5ada-4d3e-9d8c-69bd4563c53c",
   "metadata": {},
   "outputs": [],
   "source": [
    "de_para_arquivos = {\n",
    "    'regiao_5' : '01_Limites%20Administrativos%5C%5CRegi%E3o%205%5C%5CShapefile%5C%5CREGIAO5',\n",
    "    'distritos' : '01_Limites Administrativos\\\\Distrito\\\\Shapefile\\\\SIRGAS_SHP_distrito',\n",
    "    'subprefeituras' : '01_Limites Administrativos\\\\Subprefeituras\\\\Shapefile\\\\SIRGAS_SHP_subprefeitura'\n",
    "    \n",
    "}"
   ]
  },
  {
   "cell_type": "code",
   "execution_count": 10,
   "id": "3b705c82-e58b-4d5d-800e-ce75b4d5dbbb",
   "metadata": {},
   "outputs": [
    {
     "name": "stdout",
     "output_type": "stream",
     "text": [
      "Dados para tema regiao_5 já disponíveis\n",
      "Dados para tema distritos já disponíveis\n",
      "Dados para tema subprefeituras já disponíveis\n"
     ]
    }
   ],
   "source": [
    "download_all_files(de_para_arquivos)"
   ]
  },
  {
   "cell_type": "code",
   "execution_count": 11,
   "id": "ce3df1b9-d8dc-4bb7-b609-3aadd283afc7",
   "metadata": {},
   "outputs": [],
   "source": [
    "def filtrar_sirgas(tema):\n",
    "    \n",
    "    shps = find_shps(tema)\n",
    "    \n",
    "    return [shp for shp in shps if 'SIRGAS' in shp][0]"
   ]
  },
  {
   "cell_type": "code",
   "execution_count": 12,
   "id": "c826a3a9-665a-4de1-afd7-c3a42dac6acb",
   "metadata": {},
   "outputs": [],
   "source": [
    "regiao_5 = gpd.read_file(filtrar_sirgas('regiao_5'))"
   ]
  },
  {
   "cell_type": "code",
   "execution_count": 13,
   "id": "bcec6ffe-d19f-4d93-b75e-11c49ede4b75",
   "metadata": {},
   "outputs": [],
   "source": [
    "subs = gpd.read_file(filtrar_sirgas('subprefeituras'))"
   ]
  },
  {
   "cell_type": "code",
   "execution_count": 14,
   "id": "bef0ea5e-7215-4a6e-b36c-c0ad525fc261",
   "metadata": {},
   "outputs": [],
   "source": [
    "geometria_subs = subs['geometry'].copy()\n",
    "subs['geometry'] = subs['geometry'].centroid"
   ]
  },
  {
   "cell_type": "code",
   "execution_count": 15,
   "id": "b798d4aa-6dc0-4311-899e-1584c1587be9",
   "metadata": {},
   "outputs": [],
   "source": [
    "subs = gpd.sjoin(subs, regiao_5, how='left', predicate='within')"
   ]
  },
  {
   "cell_type": "code",
   "execution_count": 16,
   "id": "c38bc465-2680-43de-a8a8-73687a0a0548",
   "metadata": {},
   "outputs": [],
   "source": [
    "subs['geometry'] = geometria_subs"
   ]
  },
  {
   "cell_type": "code",
   "execution_count": 17,
   "id": "0eff8ce0-c2b7-45da-be34-02769d129175",
   "metadata": {},
   "outputs": [],
   "source": [
    "distritos = gpd.read_file(filtrar_sirgas('distritos'))"
   ]
  },
  {
   "cell_type": "code",
   "execution_count": 18,
   "id": "790aeb0b-ea5c-46cc-85f4-29203297de5e",
   "metadata": {},
   "outputs": [
    {
     "data": {
      "text/plain": [
       "set()"
      ]
     },
     "execution_count": 18,
     "metadata": {},
     "output_type": "execute_result"
    }
   ],
   "source": [
    "set(subs['sp_codigo']) - set(distritos['ds_cd_sub'])"
   ]
  },
  {
   "cell_type": "code",
   "execution_count": 19,
   "id": "854c9598-c93c-4579-83f6-169d9b3249fd",
   "metadata": {},
   "outputs": [
    {
     "data": {
      "text/plain": [
       "set()"
      ]
     },
     "execution_count": 19,
     "metadata": {},
     "output_type": "execute_result"
    }
   ],
   "source": [
    "set(distritos['ds_cd_sub'])- set(subs['sp_codigo']) "
   ]
  },
  {
   "cell_type": "code",
   "execution_count": 20,
   "id": "2ec0d699-493a-427a-8953-44a0f1f34ef2",
   "metadata": {},
   "outputs": [],
   "source": [
    "distritos.rename({'ds_cd_sub' : 'cod_subprefeitura'}, axis =1, inplace=True)"
   ]
  },
  {
   "cell_type": "code",
   "execution_count": 21,
   "id": "7a4f3574-34c6-4868-acfa-240b01fcb53a",
   "metadata": {},
   "outputs": [
    {
     "data": {
      "text/plain": [
       "Index(['ds_areamt', 'ds_subpref', 'ds_sigla', 'ds_nome', 'ds_areakm',\n",
       "       'cod_subprefeitura', 'ds_codigo', 'geometry'],\n",
       "      dtype='object')"
      ]
     },
     "execution_count": 21,
     "metadata": {},
     "output_type": "execute_result"
    }
   ],
   "source": [
    "distritos.keys()"
   ]
  },
  {
   "cell_type": "code",
   "execution_count": 22,
   "id": "b8689b63-6ec0-469b-bd94-e2192f023abf",
   "metadata": {},
   "outputs": [],
   "source": [
    "distritos = distritos[['ds_codigo', 'ds_sigla', 'ds_nome', 'cod_subprefeitura']]"
   ]
  },
  {
   "cell_type": "code",
   "execution_count": 23,
   "id": "cd099fd4-c189-4db5-9570-14f08576f89d",
   "metadata": {},
   "outputs": [],
   "source": [
    "subs = subs[[\n",
    "    'sp_codigo',\n",
    "    'sp_nome',\n",
    "    'COD_REG_5'\n",
    "]]"
   ]
  },
  {
   "cell_type": "code",
   "execution_count": 24,
   "id": "3164a4c7-fe41-4173-aa15-944d8bca613b",
   "metadata": {},
   "outputs": [],
   "source": [
    "subs = subs.rename({'COD_REG_5' : 'cod_reg_5',\n",
    "                   'sp_codigo' : 'cod_subprefeitura'}, axis=1)"
   ]
  },
  {
   "cell_type": "code",
   "execution_count": 25,
   "id": "ee972c7d-4f01-4ccf-97c5-232f08afcbb6",
   "metadata": {},
   "outputs": [],
   "source": [
    "regiao_5.rename({'COD_REG_5' : 'cod_reg_5',\n",
    "                'NOME' : 'nome'}, axis =1, inplace=True)"
   ]
  },
  {
   "cell_type": "code",
   "execution_count": 26,
   "id": "7c006774-5893-4f8a-a9d7-8c4bed992048",
   "metadata": {},
   "outputs": [],
   "source": [
    "regiao_5 = regiao_5[['cod_reg_5', 'nome']]"
   ]
  },
  {
   "cell_type": "code",
   "execution_count": 27,
   "id": "9b02a866-074d-492c-aa2b-de488044d302",
   "metadata": {},
   "outputs": [],
   "source": [
    "def save_df(df, fname, folder):\n",
    "    \n",
    "    fname = solve_path(fname, folder)\n",
    "    \n",
    "    try:\n",
    "        df.to_csv(fname, sep =';', decimal=',', \n",
    "                  encoding='latin-1', index=False)\n",
    "    except UnicodeEncodeError:\n",
    "        df.to_csv(fname, sep =';', decimal=',', \n",
    "                  encoding='utf-8', index=False)"
   ]
  },
  {
   "cell_type": "code",
   "execution_count": 28,
   "id": "6ecfb21d-f308-4c05-a5a3-e13de42ae918",
   "metadata": {},
   "outputs": [],
   "source": [
    "save_df(regiao_5, 'regiao_5.csv', GENERATED_DATA_DIR)"
   ]
  },
  {
   "cell_type": "code",
   "execution_count": 29,
   "id": "bf3f0a34-f15d-40cd-a75c-26302152fa24",
   "metadata": {},
   "outputs": [],
   "source": [
    "save_df(subs, 'subprefeituras.csv', GENERATED_DATA_DIR)"
   ]
  },
  {
   "cell_type": "code",
   "execution_count": 30,
   "id": "f56fec29-e15c-4bb3-a6e1-f48ff6b1492a",
   "metadata": {},
   "outputs": [],
   "source": [
    "save_df(distritos, 'distritos.csv', GENERATED_DATA_DIR)"
   ]
  },
  {
   "cell_type": "code",
   "execution_count": null,
   "id": "98031372-568f-4d32-b8ce-534461b8d0eb",
   "metadata": {},
   "outputs": [],
   "source": []
  }
 ],
 "metadata": {
  "kernelspec": {
   "display_name": "Python 3",
   "language": "python",
   "name": "python3"
  },
  "language_info": {
   "codemirror_mode": {
    "name": "ipython",
    "version": 3
   },
   "file_extension": ".py",
   "mimetype": "text/x-python",
   "name": "python",
   "nbconvert_exporter": "python",
   "pygments_lexer": "ipython3",
   "version": "3.8.8"
  }
 },
 "nbformat": 4,
 "nbformat_minor": 5
}
